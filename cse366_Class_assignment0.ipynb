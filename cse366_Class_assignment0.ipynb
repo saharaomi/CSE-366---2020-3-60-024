{
  "nbformat": 4,
  "nbformat_minor": 0,
  "metadata": {
    "colab": {
      "provenance": []
    },
    "kernelspec": {
      "name": "python3",
      "display_name": "Python 3"
    },
    "language_info": {
      "name": "python"
    }
  },
  "cells": [
    {
      "cell_type": "code",
      "execution_count": 9,
      "metadata": {
        "colab": {
          "base_uri": "https://localhost:8080/"
        },
        "id": "JyVkEl6YAhrs",
        "outputId": "e23677e9-d475-496d-de24-8921349545b0"
      },
      "outputs": [
        {
          "output_type": "stream",
          "name": "stdout",
          "text": [
            "Emp1 2020-3-60-024 CSE\n",
            "Emp2 2021-2-60-027 ENG\n"
          ]
        }
      ],
      "source": [
        "#part1\n",
        "class Employee:\n",
        "  def __init__(self,name,id,department):\n",
        "    self.name = name\n",
        "    self.id = id\n",
        "    self.department = department\n",
        "  def display_info(self):\n",
        "      print(self.name,self.id,self.department)\n",
        "\n",
        "emp1 = Employee(\"Emp1\",\"2020-3-60-024\",\"CSE\")\n",
        "emp2 = Employee(\"Emp2\",\"2021-2-60-027\",\"ENG\")\n",
        "emp1.display_info()\n",
        "emp2.display_info()\n",
        "\n"
      ]
    },
    {
      "cell_type": "code",
      "source": [
        "class Employee:\n",
        "  def __init__(self,name,id,department):\n",
        "    self.name = name\n",
        "    self.id = id\n",
        "    self.department = department\n",
        "  def display_info(self):\n",
        "      print(self.name,self.id,self.department)\n",
        "\n",
        "emp1 = Employee(\"Emp1\",\"2020-3-60-024\",\"CSE\")\n",
        "emp2 = Employee(\"Emp2\",\"2021-2-60-027\",\"ENG\")\n",
        "emp3 = Employee(\"Emp3\",\"2021-3-20-024\",\"MATH\")\n",
        "emp4 = Employee(\"Emp4\",\"2021-2-60-027\",\"civil\")\n",
        "emp1.display_info()\n",
        "emp2.display_info()\n",
        "emp3.display_info()\n",
        "emp4.display_info()\n",
        "\n",
        "\n"
      ],
      "metadata": {
        "id": "H9JxAv5HvtRe",
        "colab": {
          "base_uri": "https://localhost:8080/"
        },
        "outputId": "674ea9f9-f0a6-457c-b3be-5ea97aacef88"
      },
      "execution_count": 10,
      "outputs": [
        {
          "output_type": "stream",
          "name": "stdout",
          "text": [
            "Emp1 2020-3-60-024 CSE\n",
            "Emp2 2021-2-60-027 ENG\n",
            "Emp3 2021-3-20-024 MATH\n",
            "Emp4 2021-2-60-027 civil\n"
          ]
        }
      ]
    },
    {
      "cell_type": "code",
      "source": [
        "#part2\n",
        "\n",
        "class Intern(Employee): #Child (manager) inherits from parent class(employee)\n",
        "    def __init__(self,name,id,department,duration):\n",
        "        super().__init__(name,id,department)\n",
        "        self.duration = duration\n",
        "    def display_info(self):\n",
        "      print(self.name,self.id,self.department, self.duration)\n",
        "\n",
        "emp1 = Intern(\"emp1\",\"2021-2-60-164\",\"CSE\",\"25 days\")\n",
        "emp2 = Intern(\"emp2\",\"2022-2-60-027\",\"ENG\",\"30 days\")\n",
        "emp1.display_info()\n",
        "emp2.display_info()"
      ],
      "metadata": {
        "colab": {
          "base_uri": "https://localhost:8080/"
        },
        "id": "QPQtYeaMCEAS",
        "outputId": "bcaf7cc7-8416-425f-acb2-6f70d2745d36"
      },
      "execution_count": 11,
      "outputs": [
        {
          "output_type": "stream",
          "name": "stdout",
          "text": [
            "emp1 2021-2-60-164 CSE 25 days\n",
            "emp2 2022-2-60-027 ENG 30 days\n"
          ]
        }
      ]
    },
    {
      "cell_type": "code",
      "source": [
        "#part3\n",
        "class Employee:\n",
        "  def name_set(self,name,id,department):\n",
        "      self.name = name\n",
        "      self.id = id\n",
        "      self.department = department\n",
        "  def name_get(self):\n",
        "      return self.name\n",
        "      return self.id\n",
        "      return self.department\n",
        "class Manager(Employee):\n",
        "  def name_set(self,name,id,department,team_size):\n",
        "      self.name = name\n",
        "      self.id = id\n",
        "      self.department = department\n",
        "      self.team_size = team_size\n",
        "  def name_get(self):\n",
        "      return self.name\n",
        "      return self.id\n",
        "      return self.department\n",
        "      return self.team_size\n",
        "class Intern(Employee):\n",
        "  def name_set(self,name,id,department,duration):\n",
        "      self.name = name\n",
        "      self.id = id\n",
        "      self.department = department\n",
        "      self.duration = duration\n",
        "  def name_get(self):\n",
        "      return self.name\n",
        "      return self.id\n",
        "      return self.department\n",
        "      return self.duration\n",
        "\n",
        "class EmployeeManagement:\n",
        "  def __init__(self):\n",
        "      self._Employee = []\n",
        "  def add_Employee(self,Employee):\n",
        "    self._Employee.append(Employee)\n",
        "  def remove_Employee(self,emp_id):\n",
        "    for Employee in self._Employee:\n",
        "      if Employee.get_emp_id() == emp_id:\n",
        "        self._Employee.remove(Employee)\n",
        "        print(f\"Employee ID {emp_id} removed. \")\n",
        "        return\n",
        "    print(\"Employee not found. \")\n",
        "\n",
        "# def display_all_Employees(self):\n",
        "   #for Employee in self._Employee:\n",
        "       # Employee.display_info()\n",
        "     #  print(\"---------\")\n"
      ],
      "metadata": {
        "id": "M85jnLrhKxyY"
      },
      "execution_count": 18,
      "outputs": []
    }
  ]
}
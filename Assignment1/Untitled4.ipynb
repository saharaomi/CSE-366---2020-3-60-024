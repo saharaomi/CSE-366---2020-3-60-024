{
  "nbformat": 4,
  "nbformat_minor": 0,
  "metadata": {
    "colab": {
      "provenance": []
    },
    "kernelspec": {
      "name": "python3",
      "display_name": "Python 3"
    },
    "language_info": {
      "name": "python"
    }
  },
  "cells": [
    {
      "cell_type": "code",
      "execution_count": 6,
      "metadata": {
        "colab": {
          "base_uri": "https://localhost:8080/"
        },
        "id": "mfKBIxq5GAX8",
        "outputId": "ef178406-601f-466d-9228-e9b99bc69693"
      },
      "outputs": [
        {
          "output_type": "stream",
          "name": "stdout",
          "text": [
            "Employee Name: Sahara omi\n",
            "Employee ID: 2020360024\n",
            "Employee Department: CSE\n"
          ]
        }
      ],
      "source": [
        "class Employee:\n",
        "    def __init__(self, name, employee_id, department):\n",
        "        self.name = name\n",
        "        self.employee_id = employee_id\n",
        "        self.department = department\n",
        "\n",
        "emp = Employee(\"Sahara omi\",2020360024,\"CSE\")\n",
        "print(\"Employee Name:\", emp.name)\n",
        "print(\"Employee ID:\", emp.employee_id)\n",
        "print(\"Employee Department:\", emp.department)\n"
      ]
    },
    {
      "cell_type": "code",
      "source": [
        "class Employee:\n",
        "    def __init__(self, name, employee_id, department):\n",
        "        self.name = name\n",
        "        self.employee_id = employee_id\n",
        "        self.department = department\n",
        "\n",
        "    def display_info(self):\n",
        "        print(\"Employee Information:\")\n",
        "        print(\"Name:\", self.name)\n",
        "        print(\"ID:\", self.employee_id)\n",
        "        print(\"Department:\", self.department)\n",
        "\n",
        "\n",
        "emp = Employee(\"Sahara\", 2020360024, \"CSE\")\n",
        "emp.display_info()\n"
      ],
      "metadata": {
        "colab": {
          "base_uri": "https://localhost:8080/"
        },
        "id": "bakV7DLfIE17",
        "outputId": "0b4167f1-1054-413d-d40f-cb585446db25"
      },
      "execution_count": 7,
      "outputs": [
        {
          "output_type": "stream",
          "name": "stdout",
          "text": [
            "Employee Information:\n",
            "Name: Sahara\n",
            "ID: 2020360024\n",
            "Department: CSE\n"
          ]
        }
      ]
    },
    {
      "cell_type": "code",
      "source": [
        "class Employee:\n",
        "    def __init__(self, name, employee_id, department):\n",
        "        self.name = name\n",
        "        self.employee_id = employee_id\n",
        "        self.department = department\n",
        "\n",
        "    def display_info(self):\n",
        "        print(\"Employee Information:\")\n",
        "        print(\"Name:\", self.name)\n",
        "        print(\"ID:\", self.employee_id)\n",
        "        print(\"Department:\", self.department)\n",
        "\n",
        "employee1 = Employee(\"Anika Tahsin\", 12345, \"Finance\")\n",
        "employee2 = Employee(\"Jannaat ara\", 54321, \"Marketing\")\n",
        "\n",
        "print(\"Employee 1:\")\n",
        "employee1.display_info()\n",
        "print(\"\\nEmployee 2:\")\n",
        "employee2.display_info()\n"
      ],
      "metadata": {
        "colab": {
          "base_uri": "https://localhost:8080/"
        },
        "id": "szUA0exEKvRa",
        "outputId": "a061ec38-e80d-4082-f569-909fca13ee34"
      },
      "execution_count": 9,
      "outputs": [
        {
          "output_type": "stream",
          "name": "stdout",
          "text": [
            "Employee 1:\n",
            "Employee Information:\n",
            "Name: Anika Tahsin\n",
            "ID: 12345\n",
            "Department: Finance\n",
            "\n",
            "Employee 2:\n",
            "Employee Information:\n",
            "Name: Jannaat ara\n",
            "ID: 54321\n",
            "Department: Marketing\n"
          ]
        }
      ]
    },
    {
      "cell_type": "code",
      "source": [
        "class Employee:\n",
        "    def __init__(self, name, employee_id, department):\n",
        "        self.name = name\n",
        "        self.employee_id = employee_id\n",
        "        self.department = department\n",
        "\n",
        "    def display_info(self):\n",
        "        print(\"Employee Information:\")\n",
        "        print(\"Name:\", self.name)\n",
        "        print(\"ID:\", self.employee_id)\n",
        "        print(\"Department:\", self.department)\n",
        "\n",
        "\n",
        "class Manager(Employee):\n",
        "    def __init__(self, name, employee_id, department, team_size):\n",
        "        super().__init__(name, employee_id, department)\n",
        "        self.team_size = team_size\n",
        "\n",
        "    def display_info(self):\n",
        "        super().display_info()\n",
        "        print(\"Team Size:\", self.team_size)\n",
        "\n",
        "manager1 = Manager(\"Jannat\", 9800, \"Management\", 10)\n",
        "manager1.display_info()\n"
      ],
      "metadata": {
        "colab": {
          "base_uri": "https://localhost:8080/"
        },
        "id": "N0kzKBnkLrjx",
        "outputId": "679ea140-34f0-47c2-d701-c1678e6337dc"
      },
      "execution_count": 12,
      "outputs": [
        {
          "output_type": "stream",
          "name": "stdout",
          "text": [
            "Employee Information:\n",
            "Name: Jannat\n",
            "ID: 9800\n",
            "Department: Management\n",
            "Team Size: 10\n"
          ]
        }
      ]
    }
  ]
}